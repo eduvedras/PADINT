{
 "cells": [
  {
   "cell_type": "markdown",
   "metadata": {},
   "source": [
    "# Learning and Decision Making"
   ]
  },
  {
   "cell_type": "markdown",
   "metadata": {},
   "source": [
    "## Laboratory 1: Markov chains\n",
    "\n",
    "In the end of the lab, you should export the notebook to a Python script (``File >> Download as >> Python (.py)``). Make sure that the resulting script includes all code written in the tasks marked as \"**Activity n. N**\", together with any replies to specific questions posed. Your file should be named `padi-labKK-groupXXX.py`, where `KK` corresponds to the lab number and the `XXX` corresponds to your group number. Similarly, your homework should consist of a single pdf file named `padi-hwKK-groupXXX.pdf`. You should create a zip file with the lab and homework files and submit it in Fenix **at most 30 minutes after your lab is over**.\n",
    "\n",
    "Make sure to strictly respect the specifications in each activity, in terms of the intended inputs, outputs and naming conventions.\n",
    "\n",
    "In particular, after completing the activities you should be able to replicate the examples provided (although this, in itself, is no guarantee that the activities are correctly completed)."
   ]
  },
  {
   "cell_type": "markdown",
   "metadata": {},
   "source": [
    "### 1. The Markov chain model\n",
    "\n",
    "Consider once again the garbage collection problem described in the Homework and for which you wrote a Markov chain model. In this lab, you will consider a larger version of the same problem, described by the diagram:\n",
    "\n",
    "<img width=\"600\" src=\"garbage.png\">\n",
    "\n",
    "Recall that your chain should describe the motion of the garbage truck moving in the environment, where: \n",
    "\n",
    "* The truck stops are numbered from 0 to 45, as indicated by the numbers;\n",
    "* Stop n. 0 corresponds to the recycling plant;\n",
    "* In each step, the truck is in one of the 46 stops; at the next time step, it will move to one of the adjacent stops with equal probability.\n",
    "\n",
    "In this first activity, you will implement your Markov chain model in Python. You will start by loading the transition probability matrix from a `numpy` binary file, using the `numpy` function `load`. You will then consider the state space to consist of all possible stops in the environment, each represented as a string. For example, if the environment has 10 stops, the states should include the strings `'0'` to `'9'`. "
   ]
  },
  {
   "cell_type": "markdown",
   "metadata": {},
   "source": [
    "---\n",
    "\n",
    "#### Activity 1.        \n",
    "\n",
    "Write a function named `load_chain` that receives, as input, a string corresponding to the name of a file containing a transition probability matrix for some garbage collection circuit to be loaded and returns, as output, a two-element tuple corresponding to the Markov chain that describes the movement of the truck, where:\n",
    "\n",
    "* ... the first element is a tuple containing an enumeration of the state-space (i.e., each element of the tuple corresponds to a state of the chain, represented as a string).\n",
    "* ... the second element is a `numpy` array corresponding to the transition probability matrix for the chain.\n",
    "\n",
    "---"
   ]
  },
  {
   "cell_type": "code",
   "execution_count": 36,
   "metadata": {
    "ExecuteTime": {
     "end_time": "2023-02-28T09:37:14.067619Z",
     "start_time": "2023-02-28T09:37:13.286456Z"
    }
   },
   "outputs": [
    {
     "name": "stdout",
     "output_type": "stream",
     "text": [
      "Number of states: 46\n",
      "Type of states: <class 'str'>\n",
      "First state: 0\n",
      "\n",
      "Transition probability matrix (type): <class 'numpy.ndarray'>\n",
      "Transition probability matrix (dimension): (46, 46)\n"
     ]
    }
   ],
   "source": [
    "# Insert your code here.\n",
    "import numpy as np\n",
    "def load_chain(filename):\n",
    "    m = np.load(filename)\n",
    "    states = []\n",
    "    for i in range(0,len(m)):\n",
    "        states.append(str(i))\n",
    "    states = tuple(states)\n",
    "    P = np.array(m)\n",
    "    return states,P\n",
    "\n",
    "M = load_chain('garbage-big.npy')\n",
    "\n",
    "print('Number of states:', len(M[0]))\n",
    "print('Type of states:', type(M[0][0]))\n",
    "print('First state:', M[0][0])\n",
    "print('\\nTransition probability matrix (type):', type(M[1]))\n",
    "print('Transition probability matrix (dimension):', M[1].shape)\n",
    "    \n",
    "        "
   ]
  },
  {
   "cell_type": "markdown",
   "metadata": {},
   "source": [
    "We provide below an example of application of the function, that you can use as a first \"sanity check\" for your code. Note, however, that the fact that you can replicate the examples below is not indicative that your code is correct. \n",
    "\n",
    "The file used in the example contains the transition probability matrix for the road network in the diagram above. However, your code will be tested with networks of different sizes, so **make sure not to hard-code the size of the environment into your code**.\n",
    "\n",
    "```python\n",
    "M = load_chain('garbage-big.npy')\n",
    "\n",
    "print('Number of states:', len(M[0]))\n",
    "print('Type of states:', type(M[0][0]))\n",
    "print('First state:', M[0][0])\n",
    "print('\\nTransition probability matrix (type):', type(M[1]))\n",
    "print('Transition probability matrix (dimension):', M[1].shape)```\n",
    "\n",
    "Output:\n",
    "```\n",
    "Number of states: 46\n",
    "Type of states: <class 'str'>\n",
    "First state: 0\n",
    "\n",
    "Transition probability matrix (type): <class 'numpy.ndarray'>\n",
    "Transition probability matrix (dimension): (46, 46)\n",
    "```\n",
    "\n",
    "**Note:** For debug purposes, we also provide a second file, `garbage-small.npy`, that contains a 3-state Markov chain that you can use to easily verify if your results make sense."
   ]
  },
  {
   "cell_type": "markdown",
   "metadata": {},
   "source": [
    "In the next activity, you will use the Markov chain model to evaluate the likelihood of any given path for the truck.\n",
    "\n",
    "---\n",
    "\n",
    "#### Activity 2.\n",
    "\n",
    "Write a function `prob_trajectory` that receives, as inputs, \n",
    "\n",
    "* ... a Markov chain in the form of a tuple like the one returned by the function in Activity 1;\n",
    "* ... a trajectory, corresponding to a sequence of states (i.e., a tuple or list of strings, each string corresponding to a state).\n",
    "\n",
    "Your function should return, as output, a floating point number corresponding to the probability of observing the provided trajectory, taking the first state in the trajectory as initial state. \n",
    "\n",
    "---"
   ]
  },
  {
   "cell_type": "code",
   "execution_count": 4,
   "metadata": {
    "ExecuteTime": {
     "end_time": "2023-02-28T09:37:14.078596Z",
     "start_time": "2023-02-28T09:37:14.070841Z"
    }
   },
   "outputs": [
    {
     "name": "stdout",
     "output_type": "stream",
     "text": [
      "Prob. of trajectory 3-4-5-6-7-8: 0.004115226337448559\n",
      "Prob. of trajectory 0-2-1-3: 0.0\n",
      "Prob. of trajectory 19-30-31-41-35-34: 0.0023148148148148147\n",
      "Prob. of trajectory 0-2-3-14-15-21: 0.009259259259259259\n"
     ]
    }
   ],
   "source": [
    "# Insert your code here.\n",
    "def prob_trajectory(chain, trajectory):\n",
    "    prob = 1\n",
    "    for i in range(0,len(trajectory)-1):\n",
    "        prob = prob * chain[1][int(trajectory[i]),int(trajectory[i+1])]\n",
    "    return prob\n",
    "\n",
    "print(\"Prob. of trajectory 3-4-5-6-7-8:\", prob_trajectory(M, ('3', '4', '5', '6', '7', '8')))\n",
    "print(\"Prob. of trajectory 0-2-1-3:\", prob_trajectory(M, ('0', '2', '1', '3')))\n",
    "print(\"Prob. of trajectory 19-30-31-41-35-34:\", prob_trajectory(M, ('19', '30', '31', '41', '35', '34')))\n",
    "print(\"Prob. of trajectory 0-2-3-14-15-21:\", prob_trajectory(M, ('0', '2', '3', '14', '15', '21')))"
   ]
  },
  {
   "cell_type": "markdown",
   "metadata": {},
   "source": [
    "Example of application of the function with the chain $M$ from Activity 1.\n",
    "\n",
    "```python\n",
    "print(\"Prob. of trajectory 3-4-5-6-7-8:\", prob_trajectory(M, ('3', '4', '5', '6', '7', '8')))\n",
    "print(\"Prob. of trajectory 0-2-1-3:\", prob_trajectory(M, ('0', '2', '1', '3')))\n",
    "print(\"Prob. of trajectory 19-30-31-41-35-34:\", prob_trajectory(M, ('19', '30', '31', '41', '35', '34')))\n",
    "print(\"Prob. of trajectory 0-2-3-14-15-21:\", prob_trajectory(M, ('0', '2', '3', '14', '15', '21')))\n",
    "```\n",
    "\n",
    "Output:\n",
    "```\n",
    "Prob. of trajectory 3-4-5-6-7-8: 0.004115226337448559\n",
    "Prob. of trajectory 0-2-1-3: 0.0\n",
    "Prob. of trajectory 19-30-31-41-35-34: 0.0023148148148148147\n",
    "Prob. of trajectory 0-2-3-14-15-21: 0.009259259259259259\n",
    "```\n",
    "\n",
    "Note that your function should work with **any** Markov chain that is specified as a tuple like the one from Activity 1."
   ]
  },
  {
   "cell_type": "markdown",
   "metadata": {},
   "source": [
    "### 2. Stability"
   ]
  },
  {
   "cell_type": "markdown",
   "metadata": {},
   "source": [
    "The next activities explore the notion of *stationary distribution* for the chain.\n",
    "\n",
    "---\n",
    "\n",
    "#### Activity 3\n",
    "\n",
    "Write a function `stationary_dist` that receives, as input, a Markov chain in the form of a tuple like the one returned by the function in Activity 1. Your function should return, as output, a `numpy` array corresponding to a row vector containing the stationary distribution for the chain. What does this distribution tell you about how much time the truck spends in each location?\n",
    "\n",
    "**Note:** The stationary distribution is a *left* eigenvector of the transition probability matrix associated to the eigenvalue 1. As such, you may find useful the numpy function `numpy.linalg.eig`. Also, recall that the stationary distribution is *a distribution*. You may also find useful the function `numpy.real` which returns the real part of a complex number.\n",
    "\n",
    "---"
   ]
  },
  {
   "cell_type": "code",
   "execution_count": 23,
   "metadata": {
    "ExecuteTime": {
     "end_time": "2023-02-28T09:37:14.091514Z",
     "start_time": "2023-02-28T09:37:14.082017Z"
    }
   },
   "outputs": [
    {
     "name": "stdout",
     "output_type": "stream",
     "text": [
      "Stationary distribution:\n",
      "[0.01 0.01 0.02 0.02 0.02 0.02 0.02 0.02 0.03 0.01 0.02 0.01 0.01 0.01\n",
      " 0.02 0.03 0.03 0.02 0.02 0.05 0.01 0.01 0.01 0.01 0.01 0.01 0.01 0.05\n",
      " 0.01 0.04 0.04 0.04 0.04 0.01 0.01 0.05 0.01 0.04 0.04 0.01 0.04 0.04\n",
      " 0.04 0.04 0.01 0.01]\n",
      "1.0\n",
      "\n",
      "Is u* * P = u*? True\n"
     ]
    }
   ],
   "source": [
    "# Insert your code here.\n",
    "def stationary_dist(chain):\n",
    "    values, vectors = np.linalg.eig(chain[1].T)\n",
    "    for i in range(len(values)):\n",
    "        if(np.isclose(np.real(values[i]),np.real(1))):\n",
    "            value = i\n",
    "            break\n",
    "    vector = vectors[:,value]\n",
    "    sum = np.sum(vector)\n",
    "    u_star = np.real(vector/sum)\n",
    "    return u_star\n",
    "\n",
    "u_star = stationary_dist(M)\n",
    "\n",
    "print('Stationary distribution:')\n",
    "print(np.round(u_star, 2))\n",
    "\n",
    "u_prime = u_star.dot(M[1])\n",
    "\n",
    "print('\\nIs u* * P = u*?', np.all(np.isclose(u_prime, u_star)))"
   ]
  },
  {
   "attachments": {},
   "cell_type": "markdown",
   "metadata": {},
   "source": [
    "The probabilities in the distribution tell how much time the truck spends in each state, when the probabibility for a state is higher it means that the truck spent more time in this state."
   ]
  },
  {
   "cell_type": "markdown",
   "metadata": {},
   "source": [
    "Example of application of the function with the chain $M$ from Activity 1.\n",
    "\n",
    "```python\n",
    "u_star = stationary_dist(M)\n",
    "\n",
    "print('Stationary distribution:')\n",
    "print(np.round(u_star, 2))\n",
    "\n",
    "u_prime = u_star.dot(M[1])\n",
    "\n",
    "print('\\nIs u* * P = u*?', np.all(np.isclose(u_prime, u_star)))\n",
    "```\n",
    "\n",
    "Output:\n",
    "```\n",
    "Stationary distribution:\n",
    "[[0.01 0.01 0.02 0.02 0.02 0.02 0.02 0.02 0.03 0.01 0.02 0.01 0.01 0.01\n",
    "  0.02 0.03 0.03 0.02 0.02 0.05 0.01 0.01 0.01 0.01 0.01 0.01 0.01 0.05\n",
    "  0.01 0.04 0.04 0.04 0.04 0.01 0.01 0.05 0.01 0.04 0.04 0.01 0.04 0.04\n",
    "  0.04 0.04 0.01 0.01]]\n",
    "\n",
    "Is u* * P = u*? True\n",
    "```"
   ]
  },
  {
   "cell_type": "markdown",
   "metadata": {},
   "source": [
    "To complement Activity 3, you will now empirically establish that the chain is ergodic, i.e., no matter where the truck starts, its visitation frequency will eventually converge to the stationary distribution.\n",
    "\n",
    "---\n",
    "\n",
    "#### Activity 4.\n",
    "\n",
    "Write a function `compute_dist` that receives, as inputs, \n",
    "\n",
    "* ... a Markov chain in the form of a tuple like the one returned by the function in Activity 1;\n",
    "* ... a row vector (a numpy array) corresponding to the initial distribution for the chain;\n",
    "* ... an integer $N$, corresponding to the number of steps that the truck is expected to take.\n",
    "\n",
    "Your function should return, as output, a row vector (a `numpy` array) containing the distribution after $N$ steps of the chain. Use your function to justify that the chain is ergodic.\n",
    "\n",
    "---"
   ]
  },
  {
   "cell_type": "code",
   "execution_count": 14,
   "metadata": {
    "ExecuteTime": {
     "end_time": "2023-02-28T09:37:14.102782Z",
     "start_time": "2023-02-28T09:37:14.093953Z"
    }
   },
   "outputs": [
    {
     "name": "stdout",
     "output_type": "stream",
     "text": [
      "\n",
      "Is u * P^100 = u*? False\n",
      "\n",
      "Is u * P^2000 = u*? True\n"
     ]
    }
   ],
   "source": [
    "# Insert your code here.\n",
    "def compute_dist(chain, start, steps):\n",
    "    matrixpred = np.linalg.matrix_power(chain[1],steps)\n",
    "    res = start.dot(matrixpred)\n",
    "    return res\n",
    "\n",
    "import numpy.random as rnd\n",
    "nS = len(M[0])\n",
    "\n",
    "rnd.seed(42)\n",
    "\n",
    "# Initial random distribution\n",
    "u = rnd.random((1, nS))\n",
    "u = u / np.sum(u)\n",
    "\n",
    "# Distrbution after 100 steps\n",
    "v = compute_dist(M, u, 100)\n",
    "print('\\nIs u * P^100 = u*?', np.all(np.isclose(v, u_star)))\n",
    "\n",
    "# Distrbution after 2000 steps\n",
    "v = compute_dist(M, u, 2000)\n",
    "print('\\nIs u * P^2000 = u*?', np.all(np.isclose(v, u_star)))"
   ]
  },
  {
   "attachments": {},
   "cell_type": "markdown",
   "metadata": {},
   "source": [
    "This chain is ergodic because after a large amount of steps we can observe that the chain converges to a stationary distribution. In this case 2000 steps."
   ]
  },
  {
   "cell_type": "markdown",
   "metadata": {},
   "source": [
    "Example of application of the function with the chain $M$ from Activity 1.\n",
    "\n",
    "```python\n",
    "import numpy.random as rnd\n",
    "\n",
    "# Number of states\n",
    "nS = len(M[0])\n",
    "\n",
    "rnd.seed(42)\n",
    "\n",
    "# Initial random distribution\n",
    "u = rnd.random((1, nS))\n",
    "u = u / np.sum(u)\n",
    "\n",
    "# Distrbution after 100 steps\n",
    "v = compute_dist(M, u, 100)\n",
    "print('\\nIs u * P^100 = u*?', np.all(np.isclose(v, u_star)))\n",
    "\n",
    "# Distrbution after 2000 steps\n",
    "v = compute_dist(M, u, 2000)\n",
    "print('\\nIs u * P^2000 = u*?', np.all(np.isclose(v, u_star)))\n",
    "```\n",
    "\n",
    "Output:\n",
    "```\n",
    "Is u * P^100 = u*? False\n",
    "\n",
    "Is u * P^2000 = u*? True\n",
    "```"
   ]
  },
  {
   "cell_type": "markdown",
   "metadata": {},
   "source": [
    "### 3. Simulation\n",
    "\n",
    "In this part of the lab, you will *simulate* the actual movement of the truck, and empirically compute the visitation frequency of each state."
   ]
  },
  {
   "cell_type": "markdown",
   "metadata": {},
   "source": [
    "---\n",
    "\n",
    "#### Activity 5\n",
    "\n",
    "Write down a function `simulate` that receives, as inputs, \n",
    "\n",
    "* ... a Markov chain in the form of a tuple like the one returned by the function in Activity 1;\n",
    "* ... a row vector (a `numpy` array) corresponding to the initial distribution for the chain;\n",
    "* ... an integer $N$, corresponding to the number of steps that the truck is expected to take.\n",
    "\n",
    "Your function should return, as output, a tuple containing a trajectory with $N$ states, obtained from the initial distribution provided. Each element in the tuple should be a string corresponding to a state index.\n",
    "\n",
    "---\n",
    "\n",
    "**Note:** You may find useful to import the numpy module `numpy.random`."
   ]
  },
  {
   "cell_type": "code",
   "execution_count": 19,
   "metadata": {
    "ExecuteTime": {
     "end_time": "2023-02-28T09:37:14.468821Z",
     "start_time": "2023-02-28T09:37:14.104799Z"
    }
   },
   "outputs": [
    {
     "name": "stdout",
     "output_type": "stream",
     "text": [
      "Small trajectory: ['17', '23', '17', '16', '6', '5', '4', '14', '4', '14']\n",
      "End of large trajectory: ['26', '27', '25', '27', '26', '27', '25', '27', '35', '41']\n"
     ]
    }
   ],
   "source": [
    "# Insert your code here.\n",
    "def simulate(chain, start, steps):\n",
    "    state = np.random.choice(chain[0],1,False,p=start[0])\n",
    "    res = [state[0]]\n",
    "    for i in range(0,steps - 1):\n",
    "        prob = chain[1][int(state)]\n",
    "        state = np.random.choice(chain[0],1,False,p=prob)\n",
    "        res.append(state[0])\n",
    "    \n",
    "    return res\n",
    "\n",
    "nS = len(M[0])\n",
    "\n",
    "# Initial, uniform distribution\n",
    "u = np.ones((1, nS)) / nS\n",
    "\n",
    "np.random.seed(42)\n",
    "\n",
    "# Simulate short trajectory\n",
    "traj = simulate(M, u, 10)\n",
    "print('Small trajectory:', traj)\n",
    "\n",
    "# Simulate a long trajectory\n",
    "traj = simulate(M, u, 10000)\n",
    "print('End of large trajectory:', traj[-10:])"
   ]
  },
  {
   "cell_type": "markdown",
   "metadata": {},
   "source": [
    "Example of application of the function with the chain $M$ from Activity 1.\n",
    "\n",
    "```python\n",
    "# Number of states\n",
    "nS = len(M[0])\n",
    "\n",
    "# Initial, uniform distribution\n",
    "u = np.ones((1, nS)) / nS\n",
    "\n",
    "np.random.seed(42)\n",
    "\n",
    "# Simulate short trajectory\n",
    "traj = simulate(M, u, 10)\n",
    "print('Small trajectory:', traj)\n",
    "\n",
    "# Simulate a long trajectory\n",
    "traj = simulate(M, u, 10000)\n",
    "print('End of large trajectory:', traj[-10:])\n",
    "```\n",
    "\n",
    "Output:\n",
    "```\n",
    "Small trajectory: ('17', '23', '17', '16', '6', '5', '4', '14', '4', '14')\n",
    "End of large trajectory: ('26', '27', '25', '27', '26', '27', '25', '27', '35', '41')\n",
    "```\n",
    "\n",
    "Note that, even if the seed is fixed, it is possible that your trajectories are slightly different."
   ]
  },
  {
   "cell_type": "markdown",
   "metadata": {},
   "source": [
    "---\n",
    "\n",
    "#### Activity 6\n",
    "\n",
    "Use the function `simulate` from Activity #5 to generate a 50,000-step trajectory. Plot the histogram of the obtained trajectory using the function `hist` from the module `matplotlib.pyplot`. Make sure that the histogram has one bin for each state. Compare the relative frequencies with the result of Activity #3, plotting the latter on top of the histogram.\n",
    "\n",
    "**Note**: Don't forget to load `matplotlib`. \n",
    "\n",
    "**Note 2**: Recall that the states in the trajectory obtained from the function `simulate` consist of *strings*, which should be converted to state indices to match the entries in the distribution computed in Activity #3.\n",
    "\n",
    "---"
   ]
  },
  {
   "cell_type": "code",
   "execution_count": 40,
   "metadata": {
    "ExecuteTime": {
     "end_time": "2023-02-28T09:37:18.785743Z",
     "start_time": "2023-02-28T09:37:14.470835Z"
    }
   },
   "outputs": [
    {
     "data": {
      "text/plain": [
       "[<matplotlib.lines.Line2D at 0x7f9df72f3fa0>]"
      ]
     },
     "execution_count": 40,
     "metadata": {},
     "output_type": "execute_result"
    },
    {
     "data": {
      "image/png": "[encoded data removed]",
      "text/plain": [
       "<Figure size 640x480 with 1 Axes>"
      ]
     },
     "metadata": {},
     "output_type": "display_data"
    }
   ],
   "source": [
    "# Insert your code here.\n",
    "import matplotlib.pyplot as plt\n",
    "\n",
    "simulation = simulate(M, u, 50000)\n",
    "traj = []\n",
    "for i in simulation:\n",
    "    traj.append(int(i)-0.5)\n",
    "traj.append(len(M[0])-0.5)\n",
    "plt.hist(traj, rwidth=0.7, density= True, bins=len(M[0]))\n",
    "plt.plot(M[0], stationary_dist(M))"
   ]
  },
  {
   "cell_type": "code",
   "execution_count": null,
   "metadata": {},
   "outputs": [],
   "source": []
  }
 ],
 "metadata": {
  "kernelspec": {
   "display_name": "Python 3 (ipykernel)",
   "language": "python",
   "name": "python3"
  },
  "language_info": {
   "codemirror_mode": {
    "name": "ipython",
    "version": 3
   },
   "file_extension": ".py",
   "mimetype": "text/x-python",
   "name": "python",
   "nbconvert_exporter": "python",
   "pygments_lexer": "ipython3",
   "version": "3.8.10"
  },
  "latex_envs": {
   "LaTeX_envs_menu_present": true,
   "autoclose": false,
   "autocomplete": true,
   "bibliofile": "biblio.bib",
   "cite_by": "apalike",
   "current_citInitial": 1,
   "eqLabelWithNumbers": true,
   "eqNumInitial": 1,
   "hotkeys": {
    "equation": "Ctrl-E",
    "itemize": "Ctrl-I"
   },
   "labels_anchors": false,
   "latex_user_defs": false,
   "report_style_numbering": false,
   "user_envs_cfg": false
  }
 },
 "nbformat": 4,
 "nbformat_minor": 1
}
